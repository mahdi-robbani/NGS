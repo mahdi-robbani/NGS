{
 "cells": [
  {
   "cell_type": "markdown",
   "metadata": {},
   "source": [
    "# Assignment 1.1"
   ]
  },
  {
   "cell_type": "code",
   "execution_count": 189,
   "metadata": {},
   "outputs": [],
   "source": [
    "import numpy as np"
   ]
  },
  {
   "cell_type": "code",
   "execution_count": 143,
   "metadata": {},
   "outputs": [],
   "source": [
    "#Question 1\n",
    "def suffix_array(DNA):\n",
    "    \"\"\"Takes in a sequence with/without $ and returns the suffix array.\n",
    "    Can also return sorted suffixes\"\"\"\n",
    "    n = len(DNA)\n",
    "    suffixes = []\n",
    "    indexes = list(range(0, n)) #create list of indexes for all suffixes\n",
    "    \n",
    "    #build suffixes in reverse order\n",
    "    for i in range(len(DNA)):\n",
    "        s = DNA[i:n]\n",
    "        suffixes.append(s)\n",
    "    \n",
    "    SA = []\n",
    "    sorted_suffixes = []\n",
    "    #sort indexes according to suffixes\n",
    "    for s, i in sorted(zip(suffixes, indexes)):\n",
    "        SA.append(i)\n",
    "        sorted_suffixes.append(s)\n",
    "    \n",
    "    #print(sorted_suffixes)\n",
    "    #print(SA)\n",
    "    return SA"
   ]
  },
  {
   "cell_type": "code",
   "execution_count": 197,
   "metadata": {},
   "outputs": [],
   "source": [
    "# Question 2\n",
    "def binary_search(query, genome, SA):\n",
    "    \"\"\"Takes in a query string, a genome string with one or more $ and\n",
    "    a suffix array (list of indexes of the genome suffixes)\n",
    "    \"\"\"\n",
    "    #variables\n",
    "    global depth\n",
    "    n = len(query)\n",
    "    #s = len(SA)\n",
    "    #Base case\n",
    "    if len(SA) >= 1: #suffix array contains 1 or more objects so search\n",
    "        mid = int(np.floor(len(SA)/2)) \n",
    "        #mid = int(np.ceil(len(SA)/2 - 1)) #get midpoint of SA\n",
    "        #match\n",
    "        if query == genome[SA[mid]:SA[mid]+n]:\n",
    "            matches = []\n",
    "            #matches.append(SA[mid])\n",
    "            while query == genome[SA[mid]:SA[mid]+n]:\n",
    "                matches.append(SA[mid])\n",
    "                mid += 1\n",
    "            return matches\n",
    "        elif query < genome[SA[mid]:SA[mid]+n]: #search smaller half\n",
    "            depth +=1\n",
    "            return binary_search(query, genome, SA[0:mid])\n",
    "        else:\n",
    "            depth +=1\n",
    "            return binary_search(query, genome, SA[mid+1:len(SA)]) # search bigger half\n",
    "    else: #no match\n",
    "        return []"
   ]
  },
  {
   "cell_type": "code",
   "execution_count": 187,
   "metadata": {},
   "outputs": [],
   "source": [
    "def read_fasta(file):\n",
    "    f = open(file, \"r\")\n",
    "    lines = f.readlines()\n",
    "    f.close()\n",
    "    genome = \"\"\n",
    "    for line in lines:\n",
    "        line = line.rstrip() # get rid of \\n\n",
    "        #print(line)\n",
    "        if line[0] == \">\" and len(genome) == 0: # dont add $ if genome is empty\n",
    "            pass\n",
    "        elif line[0] == \">\" and len(genome) > 0: # add $ for all new chromosomes\n",
    "            genome = genome + \"$\"\n",
    "        else:\n",
    "            genome = genome + line\n",
    "    genome = genome + \"$\" #add $ at the end\n",
    "    return genome"
   ]
  },
  {
   "cell_type": "code",
   "execution_count": 200,
   "metadata": {},
   "outputs": [
    {
     "data": {
      "text/plain": [
       "[]"
      ]
     },
     "execution_count": 200,
     "metadata": {},
     "output_type": "execute_result"
    }
   ],
   "source": [
    "# Question 3\n",
    "depth = 0\n",
    "genome = read_fasta(\"genome.fasta\")\n",
    "sa = suffix_array(genome)\n",
    "hits = binary_search('ACCGT',genome,sa)\n",
    "hits"
   ]
  },
  {
   "cell_type": "code",
   "execution_count": 183,
   "metadata": {},
   "outputs": [
    {
     "name": "stdout",
     "output_type": "stream",
     "text": [
      "   10  228  AAATCGGGGG\n",
      "   11  631  AAATGCGCTC\n",
      "   12  332  AAATGGCCGT\n",
      "   13  597  AAATTCCCGG\n",
      "   14  274  AACAAACTGG\n",
      "   15  391  AACACCGCGC\n",
      "   16  315  AACCGACTAC\n",
      "   17  415  AACCTG$GTA\n",
      "   18  359  AACGTGCTGC\n",
      "   19  245  AACTCTG$GT\n",
      "\n",
      "Hits found:\n",
      "  Pos  Seq\n",
      "  315  AACC\n",
      "  415  AACC\n"
     ]
    }
   ],
   "source": [
    "# Question 4\n",
    "def print_suffixInterval(genome,sa,i,j,length=10):\n",
    "  ''' Print small part of a suffix array '''\n",
    "  while i < j and i<len(genome):\n",
    "    print('{:5}{:5} '.format(i,sa[i]),genome[sa[i]:sa[i]+length])\n",
    "    i += 1\n",
    "\n",
    "# Here your suffix_array function is called\n",
    "sa = suffix_array(genome)\n",
    "# Here a small arbitrary part of it is printed\n",
    "print_suffixInterval(genome,sa,10,20)\n",
    "\n",
    "# Here your binary_search program is tested with the query sequence 'AACC'\n",
    "hits = binary_search('AACC',genome,sa)\n",
    "# The result is printed\n",
    "print(\"\\nHits found:\\n  Pos  Seq\")\n",
    "for i in hits:\n",
    "  print('{:5} '.format(i),genome[i:i+4])"
   ]
  },
  {
   "cell_type": "markdown",
   "metadata": {},
   "source": [
    "### Question 5\n",
    "A genome of length L must be halved $\\log_2(L)$ times.  \n",
    "A genome of length $2 \\times 6 \\times 10^9$ must be halved 33.4 times.  \n",
    "A genome of length 688 (this assignment) must be halved 9.4 times."
   ]
  },
  {
   "cell_type": "code",
   "execution_count": 203,
   "metadata": {},
   "outputs": [
    {
     "name": "stdout",
     "output_type": "stream",
     "text": [
      "Length of Genome: 688\n",
      "Search Depth: 10\n"
     ]
    }
   ],
   "source": [
    "print(\"Length of Genome:\", len(genome))\n",
    "print(\"Search Depth:\", depth)"
   ]
  }
 ],
 "metadata": {
  "kernelspec": {
   "display_name": "Python 3",
   "language": "python",
   "name": "python3"
  },
  "language_info": {
   "codemirror_mode": {
    "name": "ipython",
    "version": 3
   },
   "file_extension": ".py",
   "mimetype": "text/x-python",
   "name": "python",
   "nbconvert_exporter": "python",
   "pygments_lexer": "ipython3",
   "version": "3.7.6"
  }
 },
 "nbformat": 4,
 "nbformat_minor": 4
}
