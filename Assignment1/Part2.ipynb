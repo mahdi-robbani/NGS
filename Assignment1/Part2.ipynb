{
 "cells": [
  {
   "cell_type": "markdown",
   "metadata": {},
   "source": [
    "# Part 2\n",
    "### Question 2\n",
    "**Write the likelihood model that uses both the observed bases and the quality scores for a single site. The frequencies of the four bases are the parameters. Remember that the true bases are not observed. NB! you have to explain all of the notation i.e. variables/parameters you use in your model.**\n",
    "\n",
    "\n",
    "The following is the likelihood model:\n",
    "$$\\ell(f) = \\sum_i^N \\log  \\left(\\sum_{j} p(b_i|G_j,f)(G_j|f) \\right) $$\n",
    "where  \n",
    "$$P(b_i|G_j) = \\begin{cases}\n",
    "\\frac{\\epsilon_i}{3} \\hspace{3mm} b \\neq G_j\\\\\n",
    "1 - \\epsilon_i \\hspace{3mm} b = G_j  \n",
    "\\end{cases}$$\n",
    "$f$ is the base frequency to be estimated,  \n",
    "$b_i$ is the base and $N$ is the number of reads,  \n",
    "$G_j$ is the haploid Genotype and $j \\in \\{A,C,G,T\\}$,  \n",
    "$\\epsilon$ is the probability of a base call error"
   ]
  },
  {
   "cell_type": "markdown",
   "metadata": {},
   "source": [
    "**Write the Q (estimation) and M step of the EM algorithm that you will need for the optimization. Use the same notation (variables/parameters) as you use to describe the likelihood.**  \n",
    "\n",
    "Q Step:\n",
    "$$Q_i(G_j) = p(G_j|b_i, f^{(n)}) = \\frac{p(b_i|G_j, f^{(n)})p(G_j|f^{(n)})}\n",
    "                                        {\\sum_j p(b_i|G_j, f^{(n)})p(G_j|f^{(n)})}$$\n",
    "M step:\n",
    "$$f_j^{n+1} = \\frac{\\sum_i^N p(G_j|b_i, f^{(n)})}\n",
    "                   {\\sum_i^N \\sum_j p(G_j|b_i, f^{(n)})}$$"
   ]
  },
  {
   "cell_type": "markdown",
   "metadata": {},
   "source": [
    "# Question 3\n",
    "* Estimate the allele frequencies for all sites\n",
    "* How many sites are there where the allele frequency of the most common allele is less than 0.9?"
   ]
  }
 ],
 "metadata": {
  "kernelspec": {
   "display_name": "Python 3",
   "language": "python",
   "name": "python3"
  },
  "language_info": {
   "codemirror_mode": {
    "name": "ipython",
    "version": 3
   },
   "file_extension": ".py",
   "mimetype": "text/x-python",
   "name": "python",
   "nbconvert_exporter": "python",
   "pygments_lexer": "ipython3",
   "version": "3.7.4"
  }
 },
 "nbformat": 4,
 "nbformat_minor": 4
}
