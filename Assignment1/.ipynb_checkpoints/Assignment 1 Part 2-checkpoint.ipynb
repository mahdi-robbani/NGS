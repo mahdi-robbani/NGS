{
 "cells": [
  {
   "cell_type": "markdown",
   "metadata": {},
   "source": [
    "\\begin{center} Shahriyar Mahdi Robbani \\end{center}\n",
    "\\begin{center} XQR418 \\end{center}\n",
    "\n",
    "### Question 2\n",
    "**Write the likelihood model that uses both the observed bases and the quality scores for a single site. The frequencies of the four bases are the parameters. Remember that the true bases are not observed. NB! you have to explain all of the notation i.e. variables/parameters you use in your model.**\n",
    "\n",
    "\n",
    "The following likelihood model was used to estimate the frequencies:\n",
    "$$\\ell(f) = \\sum_i^N \\log  \\left(\\sum_{j} p(b_i,G_j|f) \\right)$$\n",
    "where\n",
    "$f$ is the base frequency to be estimated,  \n",
    "$b_i$ is the $i$th base in $N$ reads,    \n",
    "$G_j$ is the true haploid Genotype $j$ where $j \\in \\{A,C,G,T\\}$,  \n",
    "$p(b_i,G_j|f)$ is the probability of a base $b_i$ having the true genotype $G_j$ given a certain frequency of $j$  "
   ]
  },
  {
   "cell_type": "markdown",
   "metadata": {},
   "source": [
    "**Write the Q (estimation) and M step of the EM algorithm that you will need for the optimization. Use the same notation (variables/parameters) as you use to describe the likelihood.**  \n",
    "\n",
    "Q Step:\n",
    "$$Q_i(G_j) = p(G_j|b_i, f^{(n)}) = \\frac{p(b_i|G_j, f^{(n)})p(G_j|f^{(n)})}\n",
    "                                        {\\sum_j p(b_i|G_j, f^{(n)})p(G_j|f^{(n)})}$$\n",
    "\n",
    "\n",
    "where  \n",
    "$f^{(n)}$ is the estimated value of the frequency at the $n$th iteration fo the algorithm  \n",
    "$p(b_i|G_j, f^{(n)})$ is the likelihood of base $i$ given the true genotype $G_j$ and frequency at $n$th iteration  \n",
    "$p(G_j|f^{(n)})$ is the probability of thetrue genotype $G_j$ occuring given the frequency at $n$th iteration\n",
    "\n",
    "M step:\n",
    "$$f_j^{n+1} = \\frac{\\sum_i^N p(G_j|b_i, f^{(n)})}\n",
    "                   {\\sum_i^N \\sum_j p(G_j|b_i, f^{(n)})}$$"
   ]
  },
  {
   "cell_type": "markdown",
   "metadata": {},
   "source": [
    "### Question 3\n",
    "**How many sites are there where the allele frequency of the most common allele is less than 0.9?**  \n",
    "There are no sites where the allele frequency of the most common allele is less than 0.9."
   ]
  }
 ],
 "metadata": {
  "kernelspec": {
   "display_name": "Python 3",
   "language": "python",
   "name": "python3"
  },
  "language_info": {
   "codemirror_mode": {
    "name": "ipython",
    "version": 3
   },
   "file_extension": ".py",
   "mimetype": "text/x-python",
   "name": "python",
   "nbconvert_exporter": "python",
   "pygments_lexer": "ipython3",
   "version": "3.7.4"
  }
 },
 "nbformat": 4,
 "nbformat_minor": 4
}
